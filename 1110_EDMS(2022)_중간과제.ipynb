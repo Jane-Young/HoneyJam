{
  "nbformat": 4,
  "nbformat_minor": 0,
  "metadata": {
    "colab": {
      "provenance": [],
      "collapsed_sections": [],
      "include_colab_link": true
    },
    "kernelspec": {
      "name": "python3",
      "display_name": "Python 3"
    },
    "language_info": {
      "name": "python"
    }
  },
  "cells": [
    {
      "cell_type": "markdown",
      "metadata": {
        "id": "view-in-github",
        "colab_type": "text"
      },
      "source": [
        "<a href=\"https://colab.research.google.com/github/Jane-Young/HagyeEnglish/blob/gh-pages/1110_EDMS(2022)_%EC%A4%91%EA%B0%84%EA%B3%BC%EC%A0%9C.ipynb\" target=\"_parent\"><img src=\"https://colab.research.google.com/assets/colab-badge.svg\" alt=\"Open In Colab\"/></a>"
      ]
    },
    {
      "cell_type": "markdown",
      "source": [
        "# 교육데이터 마이닝 세미나\n",
        "\n",
        "중간고사 대체 과제"
      ],
      "metadata": {
        "id": "CSbvZ9MO0P8A"
      }
    },
    {
      "cell_type": "markdown",
      "source": [
        "학번 : 2021128030\n",
        "\n",
        "이름 : 하정연\n",
        "\n",
        "\n"
      ],
      "metadata": {
        "id": "z-_sjsP00YzH"
      }
    },
    {
      "cell_type": "code",
      "execution_count": null,
      "metadata": {
        "id": "vdqVsNWy0L6Y"
      },
      "outputs": [],
      "source": []
    },
    {
      "cell_type": "markdown",
      "source": [
        "## 문제1. 최소직사각형\n",
        "\n",
        "### 문제 설명\n",
        "\n",
        "명함 지갑을 만드는 회사에서 지갑의 크기를 정하려고 합니다. 다양한 모양과 크기의 명함들을 모두 수납할 수 있으면서, 작아서 들고 다니기 편한 지갑을 만들어야 합니다. 이러한 요건을 만족하는 지갑을 만들기 위해 디자인팀은 모든 명함의 가로 길이와 세로 길이를 조사했습니다.\n",
        "\n",
        "아래 표는 4가지 명함의 가로 길이와 세로 길이를 나타냅니다.\n",
        "\n",
        "<img src = https://i.imgur.com/R7BTeZD.png>\n",
        "\n",
        "가장 긴 가로 길이와 세로 길이가 각각 80, 70이기 때문에 80(가로) x 70(세로) 크기의 지갑을 만들면 모든 명함들을 수납할 수 있습니다. 하지만 2번 명함을 가로로 눕혀 수납한다면 80(가로) x 50(세로) 크기의 지갑으로 모든 명함들을 수납할 수 있습니다. 이때의 지갑 크기는 4000(=80 x 50)입니다.\n",
        "\n",
        "모든 명함의 가로 길이와 세로 길이를 나타내는 2차원 배열 sizes가 매개변수로 주어집니다. 모든 명함을 수납할 수 있는 가장 작은 지갑을 만들 때, 지갑의 크기를 return 하도록 solution 함수를 완성해주세요.\n",
        "\n"
      ],
      "metadata": {
        "id": "uX3sDOAQ0Y5P"
      }
    },
    {
      "cell_type": "markdown",
      "source": [
        "### 제한사항\n",
        "\n",
        "\n",
        "\n",
        "*  sizes의 길이는 1 이상 10,000 이하입니다.\n",
        "  *  sizes의 원소는 [w, h] 형식입니다.\n",
        "  *  w는 명함의 가로 길이를 나타냅니다.\n",
        "  *  h는 명함의 세로 길이를 나타냅니다.\n",
        "  *  w와 h는 1 이상 1,000 이하인 자연수입니다."
      ],
      "metadata": {
        "id": "wGNw0-940f6O"
      }
    },
    {
      "cell_type": "markdown",
      "source": [
        "### 입출력 예\n",
        "\n",
        "```python\n",
        "sizes\t                                      result            \n",
        "[[60, 50], [30, 70], [60, 30], [80, 40]]        4000\n",
        "[[10, 7], [12, 3], [8, 15], [14, 7], [5, 15]]  120\n",
        "[[14, 4], [19, 6], [6, 16], [18, 7], [7, 11]]  133\n",
        "```"
      ],
      "metadata": {
        "id": "LjS3mFHQ0f94"
      }
    },
    {
      "cell_type": "markdown",
      "source": [
        "### 입출력 예 설명\n",
        "\n",
        "입출력 예 #1   \n",
        "문제 예시와 같습니다.\n",
        "\n",
        "입출력 예 #2   \n",
        "명함들을 적절히 회전시켜 겹쳤을 때, 3번째 명함(가로: 8, 세로: 15)이 다른 모든 명함보다 크기가 큽니다. 따라서 지갑의 크기는 3번째 명함의 크기와 같으며, 120(=8 x 15)을 return 합니다.\n",
        "\n",
        "입출력 예 #3   \n",
        "명함들을 적절히 회전시켜 겹쳤을 때, 모든 명함을 포함하는 가장 작은 지갑의 크기는 133(=19 x 7)입니다."
      ],
      "metadata": {
        "id": "vBV9m6zB1OyJ"
      }
    },
    {
      "cell_type": "markdown",
      "source": [
        "아래 코드를 완성해주세요. "
      ],
      "metadata": {
        "id": "o2KcnT871czY"
      }
    },
    {
      "cell_type": "code",
      "source": [
        "def solution(sizes):\n",
        "    \n",
        "    a = []\n",
        "    b = []\n",
        "    \n",
        "    for [i,j] in sizes:\n",
        "      if i>=j:\n",
        "        a.append(i)\n",
        "        b.append(j)\n",
        "      if i<j:\n",
        "        a.append(j)\n",
        "        b.append(i)\n",
        "\n",
        "    answer = max(a) * max(b)\n",
        "    return answer"
      ],
      "metadata": {
        "id": "NWEYgocg1c73"
      },
      "execution_count": 2,
      "outputs": []
    },
    {
      "cell_type": "code",
      "source": [
        "sizes = [[10, 7], [12, 3], [8, 15], [14, 7], [5, 15]]\n",
        "\n",
        "print(solution(sizes))\n",
        "\n",
        "# 출력결과\n",
        "# 4000"
      ],
      "metadata": {
        "id": "bwUbXsQq1zqg",
        "colab": {
          "base_uri": "https://localhost:8080/"
        },
        "outputId": "da304474-4132-4cd3-abe0-bf335767f4cd"
      },
      "execution_count": 4,
      "outputs": [
        {
          "output_type": "stream",
          "name": "stdout",
          "text": [
            "120\n"
          ]
        }
      ]
    },
    {
      "cell_type": "markdown",
      "source": [
        "---------------"
      ],
      "metadata": {
        "id": "cvecJVFk0VaM"
      }
    },
    {
      "cell_type": "markdown",
      "source": [
        "## 문제2. 주차 요금 계산\n",
        "\n",
        "### 문제 설명\n",
        "\n",
        "주차장의 요금표와 차량이 들어오고(입차) 나간(출차) 기록이 주어졌을 때, 차량별로 주차 요금을 계산하려고 합니다. 아래는 하나의 예시를 나타냅니다.\n",
        "\n",
        "* 요금표\n",
        "<img src = https://i.imgur.com/zaj20CF.png>\n",
        "\n",
        "* 입/출차기록 \n",
        "\n",
        "<img src =https://i.imgur.com/lNvijBR.png>\n",
        "\n",
        "* 자동차별 주차 요금\n",
        "\n",
        "<img src = https://i.imgur.com/MM7uonc.png>\n",
        "\n",
        "  * 어떤 차량이 입차된 후에 출차된 내역이 없다면, 23:59에 출차된 것으로 간주합니다.\n",
        "    * 0000번 차량은 18:59에 입차된 이후, 출차된 내역이 없습니다. 따라서, 23:59에 출차된 것으로 간주합니다.\n",
        "  * 00:00부터 23:59까지의 입/출차 내역을 바탕으로 차량별 누적 주차 시간을 계산하여 요금을 일괄로 정산합니다.\n",
        "  * 누적 주차 시간이 기본 시간이하라면, 기본 요금을 청구합니다.\n",
        "  * 누적 주차 시간이 기본 시간을 초과하면, 기본 요금에 더해서, 초과한 시간에 대해서 단위 시간 마다 단위 요금을 청구합니다.\n",
        "    * 초과한 시간이 단위 시간으로 나누어 떨어지지 않으면, 올림합니다.\n",
        "    * ⌈a⌉ : a보다 작지 않은 최소의 정수를 의미합니다. 즉, 올림을 의미합니다.\n",
        "\n",
        "주차 요금을 나타내는 정수 배열 fees, 자동차의 입/출차 내역을 나타내는 문자열 배열 records가 매개변수로 주어집니다. 차량 번호가 작은 자동차부터 청구할 주차 요금을 차례대로 정수 배열에 담아서 return 하도록 solution 함수를 완성해주세요."
      ],
      "metadata": {
        "id": "Eq2n9MVu0V9T"
      }
    },
    {
      "cell_type": "markdown",
      "source": [
        "### 제한사항\n",
        "\n",
        "\n",
        "\n",
        "*  fees의 길이 = 4\n",
        "  *  fees[0] = 기본 시간(분)\n",
        "  *  1 ≤ fees[0] ≤ 1,439\n",
        "  *  fees[1] = 기본 요금(원)\n",
        "  *  0 ≤ fees[1] ≤ 100,000\n",
        "  *  fees[2] = 단위 시간(분)\n",
        "  *  1 ≤ fees[2] ≤ 1,439\n",
        "  *  fees[3] = 단위 요금(원)\n",
        "  *  1 ≤ fees[3] ≤ 10,000\n",
        "*  1 ≤ records의 길이 ≤ 1,000\n",
        "  *  records의 각 원소는 \"시각 차량번호 내역\" 형식의 문자열입니다.\n",
        "  *  시각, 차량번호, 내역은 하나의 공백으로 구분되어 있습니다.\n",
        "  *  시각은 차량이 입차되거나 출차된 시각을 나타내며, HH:MM 형식의 길이 5인 문자열입니다.\n",
        "    *  HH:MM은 00:00부터 23:59까지 주어집니다.\n",
        "    *  잘못된 시각(\"25:22\", \"09:65\" 등)은 입력으로 주어지지 않습니다.\n",
        "  *  차량번호는 자동차를 구분하기 위한, `0'~'9'로 구성된 길이 4인 문자열입니다.\n",
        "  *  내역은 길이 2 또는 3인 문자열로, IN 또는 OUT입니다. IN은 입차를, OUT은 출차를 의미합니다.\n",
        "  *  records의 원소들은 시각을 기준으로 오름차순으로 정렬되어 주어집니다.\n",
        "  *  records는 하루 동안의 입/출차된 기록만 담고 있으며, 입차된 차량이 다음날 출차되는 경우는 입력으로 주어지지 않습니다.\n",
        "  *  같은 시각에, 같은 차량번호의 내역이 2번 이상 나타내지 않습니다.\n",
        "  *  마지막 시각(23:59)에 입차되는 경우는 입력으로 주어지지 않습니다.\n",
        "  *  아래의 예를 포함하여, 잘못된 입력은 주어지지 않습니다.\n",
        "    *  주차장에 없는 차량이 출차되는 경우\n",
        "    *  주차장에 이미 있는 차량(차량번호가 같은 차량)이 다시 입차되는 경우"
      ],
      "metadata": {
        "id": "OWgPiDsB0V9V"
      }
    },
    {
      "cell_type": "markdown",
      "source": [
        "### 입출력 예\n",
        "\n",
        "<img src=\"https://i.imgur.com/If06IJh.png\">\n"
      ],
      "metadata": {
        "id": "KGMKOBfE0V9W"
      }
    },
    {
      "cell_type": "markdown",
      "source": [
        "### 입출력 예 설명\n",
        "\n",
        "입출력 예 #1   \n",
        "문제 예시와 같습니다.\n",
        "\n",
        "입출력 예 #2   \n",
        "<img src=\"https://i.imgur.com/TYM6eqf.png\">\n",
        "\n",
        "<img src=\"https://i.imgur.com/PKXgIlK.png\">\n",
        "\n",
        "  * 3961번 차량은 2번째 입차된 후에는 출차된 내역이 없으므로,   23:59에 출차되었다고 간주합니다.\n",
        "\n",
        "입출력 예 #3   \n",
        "<img src='https://i.imgur.com/kt1gbDl.png'>"
      ],
      "metadata": {
        "id": "dSuo-mdA0V9W"
      }
    },
    {
      "cell_type": "markdown",
      "source": [
        "아래 코드를 완성해주세요. "
      ],
      "metadata": {
        "id": "EDh9vQtx0V9X"
      }
    },
    {
      "cell_type": "code",
      "source": [
        "def solution(fees, records):\n",
        "    answer = []\n",
        "    ## \n",
        "    ## 내용을 완성해 주세요.\n",
        "    ## \n",
        "    ## \n",
        "    return answer"
      ],
      "metadata": {
        "id": "Pj6uD0HI0V9X"
      },
      "execution_count": null,
      "outputs": []
    },
    {
      "cell_type": "code",
      "source": [],
      "metadata": {
        "id": "KleXr3xs0V9Y"
      },
      "execution_count": null,
      "outputs": []
    }
  ]
}